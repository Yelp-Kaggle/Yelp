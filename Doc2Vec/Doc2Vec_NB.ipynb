{
 "cells": [
  {
   "cell_type": "code",
   "execution_count": 1,
   "metadata": {
    "collapsed": false
   },
   "outputs": [
    {
     "name": "stdout",
     "output_type": "stream",
     "text": [
      "Populating the interactive namespace from numpy and matplotlib\n"
     ]
    }
   ],
   "source": [
    "import numpy as np\n",
    "import pandas as pd\n",
    "import matplotlib.pyplot as plt\n",
    "% pylab inline"
   ]
  },
  {
   "cell_type": "code",
   "execution_count": null,
   "metadata": {
    "collapsed": true
   },
   "outputs": [],
   "source": [
    "data_train = pd.read_csv('yelp_academic_dataset_review_train.csv')\n",
    "data_test = pd.read_csv('yelp_academic_dataset_review_test.csv')\n",
    "train_biz = pd.read_csv(\"yelp_academic_dataset_business_train.csv\")\n",
    "test_biz = pd.read_csv(\"yelp_academic_dataset_business_test.csv\")"
   ]
  },
  {
   "cell_type": "code",
   "execution_count": 56,
   "metadata": {
    "collapsed": false
   },
   "outputs": [
    {
     "name": "stdout",
     "output_type": "stream",
     "text": [
      "Preprocessing data\n",
      "10000\n",
      "20000\n",
      "30000\n",
      "40000\n",
      "50000\n",
      "60000\n",
      "70000\n",
      "80000\n",
      "90000\n",
      "100000\n",
      "110000\n",
      "Building Vocab\n",
      "Inferring Vectors\n"
     ]
    }
   ],
   "source": [
    "import gensim\n",
    "model = gensim.models.doc2vec.Doc2Vec(min_count=1, window=10, size=1000, sample=1e-4, negative=5, workers=4, iter=10)\n",
    "print(\"Preprocessing data\")\n",
    "\n",
    "train_reviews = []\n",
    "for i, review in enumerate(data_train.text):\n",
    "    if i % 10000 == 0 and i != 0:\n",
    "        print(i)\n",
    "    preprocessed = gensim.models.doc2vec.TaggedDocument(gensim.utils.simple_preprocess(review), [i])\n",
    "    train_reviews.append(preprocessed)\n",
    "    \n",
    "test_reviews = []\n",
    "for review in data_test.text:\n",
    "    if i % 10000 == 0 and i != 0:\n",
    "        print(i)\n",
    "    preprocessed = gensim.utils.simple_preprocess(review)\n",
    "    test_reviews.append(preprocessed)    \n",
    "    \n",
    "print(\"Building Vocab\")\n",
    "\n",
    "model.build_vocab(train_reviews)\n",
    "model.train(train_reviews, total_examples=len(train_reviews), epochs=model.iter)\n",
    "\n",
    "print(\"Inferring Vectors\")\n",
    "X_train = np.array([model.infer_vector(review.words) for review in train_reviews])\n",
    "X_test = np.array([model.infer_vector(review) for review in test_reviews])"
   ]
  },
  {
   "cell_type": "code",
   "execution_count": 65,
   "metadata": {
    "collapsed": true
   },
   "outputs": [],
   "source": [
    "model.save(\"Doc2VecModel\")"
   ]
  },
  {
   "cell_type": "code",
   "execution_count": null,
   "metadata": {
    "collapsed": true
   },
   "outputs": [],
   "source": []
  }
 ],
 "metadata": {
  "kernelspec": {
   "display_name": "Python 3",
   "language": "python",
   "name": "python3"
  },
  "language_info": {
   "codemirror_mode": {
    "name": "ipython",
    "version": 3
   },
   "file_extension": ".py",
   "mimetype": "text/x-python",
   "name": "python",
   "nbconvert_exporter": "python",
   "pygments_lexer": "ipython3",
   "version": "3.5.2"
  }
 },
 "nbformat": 4,
 "nbformat_minor": 2
}
