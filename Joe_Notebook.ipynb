{
 "cells": [
  {
   "cell_type": "code",
   "execution_count": null,
   "metadata": {
    "collapsed": true,
    "deletable": true,
    "editable": true
   },
   "outputs": [],
   "source": [
    "import numpy as np\n",
    "import pandas as pd"
   ]
  },
  {
   "cell_type": "code",
   "execution_count": null,
   "metadata": {
    "collapsed": true,
    "deletable": true,
    "editable": true
   },
   "outputs": [],
   "source": [
    "data_train = pd.read_csv('yelp_academic_dataset_review_train.csv')\n",
    "data_test = pd.read_csv('yelp_academic_dataset_review_test.csv')"
   ]
  },
  {
   "cell_type": "code",
   "execution_count": null,
   "metadata": {
    "collapsed": false,
    "deletable": true,
    "editable": true
   },
   "outputs": [],
   "source": [
    "all_reviews = pd.concat([data_train.text, data_test.text])\n",
    "train_length = data_train.shape[0]\n",
    "test_length = data_test.shape[0]"
   ]
  },
  {
   "cell_type": "code",
   "execution_count": null,
   "metadata": {
    "collapsed": true,
    "deletable": true,
    "editable": true
   },
   "outputs": [],
   "source": [
    "from sklearn.feature_extraction.text import CountVectorizer\n",
    "from sklearn.feature_extraction.text import TfidfTransformer\n",
    "from sklearn.naive_bayes import MultinomialNB\n",
    "from sklearn.model_selection import cross_val_predict\n",
    "from sklearn.ensemble import RandomForestClassifier"
   ]
  },
  {
   "cell_type": "code",
   "execution_count": null,
   "metadata": {
    "collapsed": false,
    "deletable": true,
    "editable": true
   },
   "outputs": [],
   "source": [
    "count_vect = CountVectorizer(stop_words='english')\n",
    "X_counts = count_vect.fit_transform(all_reviews)\n",
    "X_train_counts = X_counts[:train_length]\n",
    "X_test_counts = X_counts[train_length:]\n",
    "tfidf_transformer = TfidfTransformer()\n",
    "X_tfidf = tfidf_transformer.fit_transform(X_counts) # For some reason this doesn't work\n",
    "X_train_tfidf = X_tfidf[:train_length] # For some reason this doesn't work\n",
    "X_test_tfidf = X_tfidf[train_length:] # For some reason this doesn't work"
   ]
  },
  {
   "cell_type": "code",
   "execution_count": null,
   "metadata": {
    "collapsed": false,
    "deletable": true,
    "editable": true
   },
   "outputs": [],
   "source": [
    "clf = RandomForestClassifier(verbose=2)\n",
    "clf.fit(X_train_counts, data_train.stars) # Not using tf-idf, just bag of words\n",
    "preds = clf.predict(X_test_counts)\n",
    "np.mean(preds)"
   ]
  },
  {
   "cell_type": "code",
   "execution_count": null,
   "metadata": {
    "collapsed": false
   },
   "outputs": [],
   "source": [
    "cv_preds = cross_val_predict(clf, X_train_counts, data_train.stars, cv=10)"
   ]
  },
  {
   "cell_type": "code",
   "execution_count": null,
   "metadata": {
    "collapsed": false
   },
   "outputs": [],
   "source": [
    "data_train['cv_preds'] = cv_preds\n",
    "grouped = data_train.groupby('business_id').mean()\n",
    "np.sqrt(np.mean((grouped.stars - grouped.cv_preds)**2))"
   ]
  },
  {
   "cell_type": "code",
   "execution_count": null,
   "metadata": {
    "collapsed": false
   },
   "outputs": [],
   "source": [
    "data_test['weighted_pred'] = preds * (1 + data_test.useful)\n",
    "multiplier = data_test.groupby('business_id').sum().useful + data_test.groupby('business_id').count().useful\n",
    "weighted_preds = data_test.groupby('business_id').sum().weighted_pred / multiplier"
   ]
  },
  {
   "cell_type": "code",
   "execution_count": null,
   "metadata": {
    "collapsed": false,
    "deletable": true,
    "editable": true
   },
   "outputs": [],
   "source": [
    "data_test[\"weighted_preds\"] = weighted_preds\n",
    "pred_per_buisiness = data_test.groupby(\"business_id\").mean().weighted_preds\n",
    "test_biz = pd.read_csv(\"yelp_academic_dataset_business_test.csv\")"
   ]
  },
  {
   "cell_type": "code",
   "execution_count": null,
   "metadata": {
    "collapsed": false,
    "deletable": true,
    "editable": true
   },
   "outputs": [],
   "source": [
    "pred_df = pd.DataFrame([{\"business_id\": biz, \"stars\": pred_per_buisiness[biz]} for biz in test_biz.business_id])\n",
    "pred_df = pred_df.set_index(\"business_id\")\n",
    "pred_df.to_csv(\"Submission\")"
   ]
  },
  {
   "cell_type": "code",
   "execution_count": null,
   "metadata": {
    "collapsed": false
   },
   "outputs": [],
   "source": [
    "importances = [pair for pair in enumerate(clf.feature_importances_)]\n",
    "sorted_importances = sorted(importances, key = lambda x: x[1], reverse=True)\n",
    "top_ten = [x[0] for x in sorted_importances[:10]]\n",
    "feature_lookup = {count_vect.vocabulary_[key]: key for key in count_vect.vocabulary_}\n",
    "[feature_lookup[feature] for feature in top_ten]"
   ]
  },
  {
   "cell_type": "code",
   "execution_count": null,
   "metadata": {
    "collapsed": true,
    "deletable": true,
    "editable": true
   },
   "outputs": [],
   "source": []
  }
 ],
 "metadata": {
  "kernelspec": {
   "display_name": "Python 3",
   "language": "python",
   "name": "python3"
  },
  "language_info": {
   "codemirror_mode": {
    "name": "ipython",
    "version": 3
   },
   "file_extension": ".py",
   "mimetype": "text/x-python",
   "name": "python",
   "nbconvert_exporter": "python",
   "pygments_lexer": "ipython3",
   "version": "3.5.2"
  }
 },
 "nbformat": 4,
 "nbformat_minor": 2
}
